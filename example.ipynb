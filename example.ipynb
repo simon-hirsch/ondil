{
 "cells": [
  {
   "cell_type": "code",
   "execution_count": 13,
   "id": "e37ae52f-fa91-4128-9580-d12c61984cc7",
   "metadata": {},
   "outputs": [],
   "source": [
    "import rolch\n",
    "import numpy as np\n",
    "from sklearn.datasets import load_diabetes\n",
    "\n",
    "np.set_printoptions(precision=3, suppress=True)"
   ]
  },
  {
   "cell_type": "markdown",
   "id": "44c6cf80-9bad-4c52-bbb8-f7d0d0dcccb0",
   "metadata": {},
   "source": [
    "# Batch Estimation"
   ]
  },
  {
   "cell_type": "code",
   "execution_count": 14,
   "id": "1fd422ca-82aa-44d2-8287-5bfcae8c6d4e",
   "metadata": {},
   "outputs": [],
   "source": [
    "## Diabetes data set\n",
    "## Add intercept (will not be regularized)\n",
    "\n",
    "X, y = load_diabetes(return_X_y=True)\n",
    "X = np.hstack((np.ones((X.shape[0], 1)), X))"
   ]
  },
  {
   "cell_type": "markdown",
   "id": "493a21e3-f9a1-43b9-9104-b56e6e37532f",
   "metadata": {},
   "source": [
    "## OLS"
   ]
  },
  {
   "cell_type": "code",
   "execution_count": 15,
   "id": "558ca51e-a311-4d4b-87b5-17986b364ed3",
   "metadata": {},
   "outputs": [
    {
     "name": "stdout",
     "output_type": "stream",
     "text": [
      "OLS Coefficients \n",
      "\n",
      "[[148.321   3.912   2.925]\n",
      " [ -1.694  -0.034   0.035]\n",
      " [-10.653  -0.026   0.156]\n",
      " [ 16.167   0.066  -0.067]\n",
      " [ 12.887   0.05   -0.146]\n",
      " [-29.789   0.019   2.24 ]\n",
      " [ 18.741  -0.051  -2.019]\n",
      " [  1.384   0.     -0.515]\n",
      " [  2.927   0.026   0.109]\n",
      " [ 28.401  -0.006  -0.818]\n",
      " [  1.391   0.04   -0.09 ]]\n"
     ]
    }
   ],
   "source": [
    "online_gamlss_ols = rolch.OnlineGamlss(\n",
    "    distribution=rolch.DistributionT(), \n",
    "    method=\"ols\"\n",
    ")\n",
    "\n",
    "online_gamlss_ols.fit(y, X, X, X)\n",
    "\n",
    "print(\"OLS Coefficients \\n\")\n",
    "print(np.vstack(online_gamlss_ols.betas).T)"
   ]
  },
  {
   "cell_type": "markdown",
   "id": "3689ff07-ff5e-4681-bfa6-dc9d8b447066",
   "metadata": {},
   "source": [
    "## LASSO"
   ]
  },
  {
   "cell_type": "code",
   "execution_count": 16,
   "id": "2d8d950d-3749-4c86-8f05-8082b9e25ae4",
   "metadata": {},
   "outputs": [
    {
     "name": "stdout",
     "output_type": "stream",
     "text": [
      "LASSO Coefficients \n",
      "\n",
      "[[151.477   3.922   9.163]\n",
      " [  0.191  -0.045   0.957]\n",
      " [-11.589  -0.105   0.015]\n",
      " [ 22.3     0.046  -0.237]\n",
      " [ 15.728   0.094  -0.171]\n",
      " [ -9.854  -0.001  57.339]\n",
      " [  0.022   0.078 -50.351]\n",
      " [ -7.917  -0.264 -22.77 ]\n",
      " [  4.73   -0.184  -0.331]\n",
      " [ 26.556   0.053 -21.377]\n",
      " [  3.017   0.052  -0.342]]\n"
     ]
    }
   ],
   "source": [
    "dist = rolch.DistributionT()\n",
    "\n",
    "online_gamlss_lasso = rolch.OnlineGamlss(\n",
    "    distribution=rolch.DistributionT(),\n",
    "    method=\"lasso\",\n",
    "    estimation_kwargs={\"ic\" : {i: \"bic\" for i in range(dist.n_params)}},\n",
    ")\n",
    "\n",
    "online_gamlss_lasso.fit(y, X, X, X)\n",
    "\n",
    "print(\"LASSO Coefficients \\n\")\n",
    "print(np.vstack(online_gamlss_lasso.betas).T)"
   ]
  },
  {
   "cell_type": "markdown",
   "id": "28c1c7a2-0464-44cd-ac9e-6d8276a0413c",
   "metadata": {},
   "source": [
    "# Incremental Fit"
   ]
  },
  {
   "cell_type": "code",
   "execution_count": 17,
   "id": "7e8a74f8-f170-440e-a27f-fa3a14c0b924",
   "metadata": {},
   "outputs": [
    {
     "name": "stdout",
     "output_type": "stream",
     "text": [
      "Coefficients for the first N-1 observations \n",
      "\n",
      "[[148.608   3.913   2.925]\n",
      " [ -1.715  -0.034   0.035]\n",
      " [-10.638  -0.026   0.157]\n",
      " [ 16.137   0.066  -0.068]\n",
      " [ 12.81    0.05   -0.149]\n",
      " [-29.945   0.021   2.236]\n",
      " [ 18.908  -0.052  -2.02 ]\n",
      " [  1.638  -0.002  -0.502]\n",
      " [  3.088   0.025   0.113]\n",
      " [ 28.54   -0.007  -0.821]\n",
      " [  1.415   0.04   -0.089]]\n",
      "\n",
      "RSS for the first N-1 observations \n",
      "\n",
      "{0: 0.5607622474680065, 1: 0.3138116245131759, 2: 0.16129157285356924}\n"
     ]
    }
   ],
   "source": [
    "online_gamlss_lasso = rolch.OnlineGamlss(\n",
    "    distribution=rolch.DistributionT(), \n",
    "    method=\"ols\", \n",
    "    estimation_kwargs={\"ic\" : \"bic\"}, \n",
    "    # aic, bic, hqc, max (max == always select largest model --> OLS solution)\n",
    ")\n",
    "\n",
    "online_gamlss_lasso.model_selection_on_weighted_rss = False\n",
    "\n",
    "online_gamlss_lasso.fit(\n",
    "    y[:-1], \n",
    "    X[:-1, :], \n",
    "    X[:-1, :], \n",
    "    X[:-1, :]\n",
    ")\n",
    "\n",
    "print(\"Coefficients for the first N-1 observations \\n\")\n",
    "print(np.vstack(online_gamlss_lasso.betas).T)\n",
    "\n",
    "print(\"\\nRSS for the first N-1 observations \\n\")\n",
    "print(online_gamlss_lasso.rss)"
   ]
  },
  {
   "cell_type": "code",
   "execution_count": 18,
   "id": "3a3740ca-2c78-427a-b1d1-b4e2a5abcdd7",
   "metadata": {},
   "outputs": [
    {
     "name": "stdout",
     "output_type": "stream",
     "text": [
      "\n",
      "Coefficients after update call \n",
      "\n",
      "[[151.881   3.966   4.173]\n",
      " [ -0.765  -0.047   0.13 ]\n",
      " [-12.968  -0.069   0.4  ]\n",
      " [ 23.564   0.084  -0.121]\n",
      " [ 15.931   0.094  -0.361]\n",
      " [-26.278  -0.463  11.797]\n",
      " [ 13.564   0.408 -10.664]\n",
      " [ -1.327   0.062  -3.344]\n",
      " [  6.064  -0.058   0.455]\n",
      " [ 32.744   0.216  -4.371]\n",
      " [  2.005   0.064  -0.208]]\n",
      "\n",
      "RSS after update call  \n",
      "\n",
      "{0: 0.5607622474680065, 1: array([0.314]), 2: array([0.164])}\n"
     ]
    }
   ],
   "source": [
    "online_gamlss_lasso.update(\n",
    "    y[[-1]], \n",
    "    X[[-1], :], \n",
    "    X[[-1], :], \n",
    "    X[[-1], :]\n",
    ")\n",
    "\n",
    "print(\"\\nCoefficients after update call \\n\")\n",
    "print(np.vstack(online_gamlss_lasso.betas).T)\n",
    "\n",
    "print(\"\\nRSS after update call  \\n\")\n",
    "print(online_gamlss_lasso.rss)"
   ]
  }
 ],
 "metadata": {
  "kernelspec": {
   "display_name": "Python 3",
   "language": "python",
   "name": "python3"
  },
  "language_info": {
   "codemirror_mode": {
    "name": "ipython",
    "version": 3
   },
   "file_extension": ".py",
   "mimetype": "text/x-python",
   "name": "python",
   "nbconvert_exporter": "python",
   "pygments_lexer": "ipython3",
   "version": "3.10.12"
  }
 },
 "nbformat": 4,
 "nbformat_minor": 5
}
